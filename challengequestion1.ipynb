{
  "nbformat": 4,
  "nbformat_minor": 0,
  "metadata": {
    "colab": {
      "provenance": [],
      "authorship_tag": "ABX9TyNpzgn+cnpky42ZTk2eoPNl",
      "include_colab_link": true
    },
    "kernelspec": {
      "name": "python3",
      "display_name": "Python 3"
    },
    "language_info": {
      "name": "python"
    }
  },
  "cells": [
    {
      "cell_type": "markdown",
      "metadata": {
        "id": "view-in-github",
        "colab_type": "text"
      },
      "source": [
        "<a href=\"https://colab.research.google.com/github/parvgarg9900/Challenge-Question/blob/main/challengequestion1.ipynb\" target=\"_parent\"><img src=\"https://colab.research.google.com/assets/colab-badge.svg\" alt=\"Open In Colab\"/></a>"
      ]
    },
    {
      "cell_type": "code",
      "execution_count": 10,
      "metadata": {
        "colab": {
          "base_uri": "https://localhost:8080/"
        },
        "id": "F4awUOU5svam",
        "outputId": "5cb342b8-6df8-492f-b4ba-fe3f14b16d2d"
      },
      "outputs": [
        {
          "output_type": "stream",
          "name": "stdout",
          "text": [
            "['1', '2', '3', 'AMAN', 'RAM', 'SHYAM']\n",
            "[1, 2, 3, 'AMAN', 'RAM', 'SHYAM']\n"
          ]
        }
      ],
      "source": [
        "L = [\"RAM\", 1, \"SHYAM\", 2, \"AMAN\", 3]\n",
        "L = [str(i) for i in L]\n",
        "\n",
        "L.sort()\n",
        "print(L)\n",
        "\n",
        "L1 = []\n",
        "for i in L:\n",
        "  try:\n",
        "    L1.append(int(i))\n",
        "  except:\n",
        "    L1.append(i)\n",
        "\n",
        "print(L1)"
      ]
    }
  ]
}